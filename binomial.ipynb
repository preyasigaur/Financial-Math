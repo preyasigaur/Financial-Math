{
 "cells": [
  {
   "cell_type": "code",
   "execution_count": 3,
   "metadata": {},
   "outputs": [
    {
     "name": "stdout",
     "output_type": "stream",
     "text": [
      "European Call Option Price: 9.194162707336549\n",
      "European Put Option Price: 6.245708445206439\n",
      "American Call Option Price: 9.194162707336549\n",
      "American Put Option Price: 7.428401902704835\n"
     ]
    }
   ],
   "source": [
    "import numpy as np\n",
    "\n",
    "class BinomialOptionPricing:\n",
    "    def __init__(self, S, K, T, r, sigma, N, option_type='call', american=False):\n",
    "        \"\"\"\n",
    "        S: Initial stock price\n",
    "        K: Strike price\n",
    "        T: Time to maturity (in years)\n",
    "        r: Risk-free interest rate\n",
    "        sigma: Volatility (standard deviation of stock's returns)\n",
    "        N: Number of steps in the binomial tree\n",
    "        option_type: 'call' or 'put'\n",
    "        american: True for American options, False for European options\n",
    "        \"\"\"\n",
    "        self.S = S\n",
    "        self.K = K\n",
    "        self.T = T\n",
    "        self.r = r\n",
    "        self.sigma = sigma\n",
    "        self.N = N\n",
    "        self.dt = T / N  # Time per step\n",
    "        self.discount = np.exp(-r * self.dt)  # Discount factor\n",
    "        self.u = np.exp(sigma * np.sqrt(self.dt))  # Up movement factor\n",
    "        self.d = 1 / self.u  # Down movement factor\n",
    "        self.p = (np.exp(r * self.dt) - self.d) / (self.u - self.d)  # Risk-neutral probability\n",
    "        self.option_type = option_type\n",
    "        self.american = american\n",
    "\n",
    "    def price(self):\n",
    "        stock_prices = np.zeros((self.N + 1, self.N + 1))\n",
    "        stock_prices[0, 0] = self.S\n",
    "\n",
    "        for i in range(1, self.N + 1):\n",
    "            for j in range(i + 1):\n",
    "                stock_prices[j, i] = self.S * (self.u ** (i - j)) * (self.d ** j)\n",
    "\n",
    "        option_values = np.zeros((self.N + 1, self.N + 1))\n",
    "        for j in range(self.N + 1):\n",
    "            if self.option_type == 'call':\n",
    "                option_values[j, self.N] = max(0, stock_prices[j, self.N] - self.K)\n",
    "            elif self.option_type == 'put':\n",
    "                option_values[j, self.N] = max(0, self.K - stock_prices[j, self.N])\n",
    "\n",
    "        for i in range(self.N - 1, -1, -1):\n",
    "            for j in range(i + 1):\n",
    "                option_value_if_held = (self.p * option_values[j, i + 1] +\n",
    "                                        (1 - self.p) * option_values[j + 1, i + 1]) * self.discount\n",
    "                if self.american:\n",
    "                    if self.option_type == 'call':\n",
    "                        option_value_if_exercised = max(0, stock_prices[j, i] - self.K)\n",
    "                    else:\n",
    "                        option_value_if_exercised = max(0, self.K - stock_prices[j, i])\n",
    "                    option_values[j, i] = max(option_value_if_held, option_value_if_exercised)\n",
    "                else:\n",
    "                    option_values[j, i] = option_value_if_held\n",
    "\n",
    "        return option_values[0, 0]\n",
    "\n",
    "\n",
    "#Example\n",
    "S = 50  # Initial stock price\n",
    "K = 52  # Strike price\n",
    "T = 2    # Time to maturity (1 year)\n",
    "r = 0.05  # Risk-free interest rate\n",
    "sigma = 0.3  # Volatility (20%)\n",
    "N = 2    # Number of steps in the binomial tree\n",
    "\n",
    "# European Call Option\n",
    "european_call = BinomialOptionPricing(S, K, T, r, sigma, N, option_type='call', american=False)\n",
    "print(\"European Call Option Price:\", european_call.price())\n",
    "\n",
    "# European Put Option\n",
    "european_put = BinomialOptionPricing(S, K, T, r, sigma, N, option_type='put', american=False)\n",
    "print(\"European Put Option Price:\", european_put.price())\n",
    "\n",
    "\n",
    "# American Call Option\n",
    "american_call = BinomialOptionPricing(S, K, T, r, sigma, N, option_type='call', american=True)\n",
    "print(\"American Call Option Price:\", american_call.price())\n",
    "\n",
    "# American Put Option\n",
    "american_put = BinomialOptionPricing(S, K, T, r, sigma, N, option_type='put', american=True)\n",
    "print(\"American Put Option Price:\", american_put.price())\n",
    "\n"
   ]
  }
 ],
 "metadata": {
  "kernelspec": {
   "display_name": "Python 3.8.0 64-bit",
   "language": "python",
   "name": "python3"
  },
  "language_info": {
   "codemirror_mode": {
    "name": "ipython",
    "version": 3
   },
   "file_extension": ".py",
   "mimetype": "text/x-python",
   "name": "python",
   "nbconvert_exporter": "python",
   "pygments_lexer": "ipython3",
   "version": "3.8.0"
  },
  "orig_nbformat": 4,
  "vscode": {
   "interpreter": {
    "hash": "0adcc2737ebf6a4a119f135174df96668767fca1ef1112612db5ecadf2b6d608"
   }
  }
 },
 "nbformat": 4,
 "nbformat_minor": 2
}
