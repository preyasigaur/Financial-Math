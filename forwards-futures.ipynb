{
 "cells": [
  {
   "cell_type": "code",
   "execution_count": 1,
   "metadata": {},
   "outputs": [
    {
     "name": "stdout",
     "output_type": "stream",
     "text": [
      "Futures Price: 105.13\n",
      "Forwards Price: 103.05\n"
     ]
    }
   ],
   "source": [
    "import numpy as np\n",
    "\n",
    "def futures_price(spot_price, interest_rate, time_to_maturity):\n",
    "    \"\"\"\n",
    "    Calculate the price of a futures contract.\n",
    "    \n",
    "    :param spot_price: Current spot price of the underlying asset\n",
    "    :param interest_rate: Risk-free interest rate (annualized)\n",
    "    :param time_to_maturity: Time to maturity in years\n",
    "    :return: Futures price\n",
    "    \"\"\"\n",
    "    return spot_price * np.exp(interest_rate * time_to_maturity)\n",
    "\n",
    "def forwards_price(spot_price, interest_rate, dividend_yield, time_to_maturity):\n",
    "    \"\"\"\n",
    "    Calculate the price of a forwards contract.\n",
    "    \n",
    "    :param spot_price: Current spot price of the underlying asset\n",
    "    :param interest_rate: Risk-free interest rate (annualized)\n",
    "    :param dividend_yield: Dividend yield (annualized)\n",
    "    :param time_to_maturity: Time to maturity in years\n",
    "    :return: Forwards price\n",
    "    \"\"\"\n",
    "    return spot_price * np.exp((interest_rate - dividend_yield) * time_to_maturity)\n",
    "\n",
    "spot_price = 100  # Current price of the asset\n",
    "interest_rate = 0.05  # 5% risk-free interest rate\n",
    "time_to_maturity = 1  # 1 year to maturity\n",
    "dividend_yield = 0.02  # 2% dividend yield\n",
    "\n",
    "# Futures Pricing\n",
    "futures = futures_price(spot_price, interest_rate, time_to_maturity)\n",
    "print(f\"Futures Price: {futures:.2f}\")\n",
    "\n",
    "# Forwards Pricing\n",
    "forwards = forwards_price(spot_price, interest_rate, dividend_yield, time_to_maturity)\n",
    "print(f\"Forwards Price: {forwards:.2f}\")\n"
   ]
  },
  {
   "cell_type": "code",
   "execution_count": null,
   "metadata": {},
   "outputs": [],
   "source": []
  }
 ],
 "metadata": {
  "kernelspec": {
   "display_name": "Python 3.8.0 64-bit",
   "language": "python",
   "name": "python3"
  },
  "language_info": {
   "codemirror_mode": {
    "name": "ipython",
    "version": 3
   },
   "file_extension": ".py",
   "mimetype": "text/x-python",
   "name": "python",
   "nbconvert_exporter": "python",
   "pygments_lexer": "ipython3",
   "version": "3.8.0"
  },
  "orig_nbformat": 4,
  "vscode": {
   "interpreter": {
    "hash": "0adcc2737ebf6a4a119f135174df96668767fca1ef1112612db5ecadf2b6d608"
   }
  }
 },
 "nbformat": 4,
 "nbformat_minor": 2
}
